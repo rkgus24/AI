{
  "nbformat": 4,
  "nbformat_minor": 0,
  "metadata": {
    "colab": {
      "provenance": []
    },
    "kernelspec": {
      "name": "python3",
      "display_name": "Python 3"
    },
    "language_info": {
      "name": "python"
    }
  },
  "cells": [
    {
      "cell_type": "code",
      "source": [
        "import time\n",
        "import requests, re\n",
        "from bs4 import BeautifulSoup\n",
        "from IPython.core.display import display, HTML\n",
        " \n",
        "#봇 차단을 위한 헤더 설정\n",
        "headers = {\n",
        "    \"Connection\" : \"keep-alive\",\n",
        "    \"Cache-Control\" : \"max-age=0\",\n",
        "    \"sec-ch-ua-mobile\" : \"?0\",\n",
        "    \"DNT\" : \"1\",\n",
        "    \"Upgrade-Insecure-Requests\" : \"1\",\n",
        "    \"User-Agent\" : \"Mozilla/5.0 (Windows NT 10.0; Win64; x64) AppleWebKit/537.36 (KHTML, like Gecko) Chrome/90.0.4430.93 Safari/537.36\",\n",
        "    \"Accept\" : \"text/html,application/xhtml+xml,application/xml;q=0.9,image/avif,image/webp,image/apng,*/*;q=0.8,application/signed-exchange;v=b3;q=0.9\",\n",
        "    \"Sec-Fetch-Site\" : \"none\",\n",
        "    \"Sec-Fetch-Mode\" : \"navigate\",\n",
        "    \"Sec-Fetch-User\" : \"?1\",\n",
        "    \"Sec-Fetch-Dest\" : \"document\",\n",
        "    \"Accept-Encoding\" : \"gzip, deflate, br\",\n",
        "    \"Accept-Language\" : \"ko-KR,ko;q=0.9\"\n",
        "    }\n",
        " \n",
        "#갤러리 타입 가져오기(마이너, 일반)\n",
        "def get_gallary_type(dc_id):\n",
        "    #url로 requests를 보내서 redirect시키는지 체크한다.\n",
        "    url = f'https://gall.dcinside.com/board/lists/?id={dc_id}'\n",
        "    result = url\n",
        "    \n",
        "    res = requests.get(url, headers=headers)\n",
        "    soup = BeautifulSoup(res.text, \"lxml\")\n",
        "    if \"location.replace\" in str(soup):\n",
        "        redirect_url = str(soup).split('\"')[3]\n",
        "        result = redirect_url\n",
        "    if \"mgallery\" in result:\n",
        "        result = \"mgallery/board\"\n",
        "    else:\n",
        "        result = \"board\"\n",
        "        \n",
        "    return result\n",
        " \n",
        "#글 파싱 함수\n",
        "def article_parse(dc_id, keyword):\n",
        "    g_type = get_gallary_type(dc_id)\n",
        "    url = f\"https://gall.dcinside.com/{g_type}/lists/?id={dc_id}&page=1&s_type=search_subject_memo&s_keyword={keyword}\"\n",
        "    res = requests.get(url, headers=headers)\n",
        "    soup = BeautifulSoup(res.text, \"lxml\")\n",
        " \n",
        "    article_list = soup.select(\".us-post\") #글 박스 전부 select\n",
        "    for element in article_list:\n",
        "        #글 박스를 하나씩 반복하면서 정보 추출\n",
        "        link = \"https://gall.dcinside.com/\" + element.select(\"a\")[0]['href'].strip()\n",
        "        num = element.select(\".gall_num\")[0].text\n",
        "        title = element.select(\".ub-word > a\")[0].text\n",
        "        reply = element.select(\".ub-word > a.reply_numbox > .reply_num\")\n",
        "        if reply : reply = reply[0].text\n",
        "        else : reply = \"\"\n",
        "        nickname = element.select(\".ub-writer\")[0].text.strip()\n",
        "        timestamp = element.select(\".gall_date\")[0].text\n",
        "        refresh = element.select(\".gall_count\")[0].text\n",
        "        recommend = element.select(\".gall_recommend\")[0].text\n",
        " \n",
        "        #print(link, num, title, reply, nickname, timestamp, refresh, recommend)\n",
        "        display(HTML(f'{num} <a href = \"{link}\" target=\"_blank\">{title}</a> {reply} {nickname} {timestamp} {refresh} {recommend}'))\n",
        "    \n",
        " \n",
        "#검색할때 설정해줘야할 것들\n",
        "dc_id = \"vr_games_xuq\"\n",
        "keyword = \"게임\"\n",
        " \n",
        "article_parse(dc_id, keyword)"
      ],
      "metadata": {
        "id": "RoJxg1dUZ0tw",
        "outputId": "49b6f4e8-4771-48fe-b214-3615c991d288",
        "colab": {
          "base_uri": "https://localhost:8080/",
          "height": 364
        }
      },
      "execution_count": null,
      "outputs": [
        {
          "output_type": "display_data",
          "data": {
            "text/plain": [
              "<IPython.core.display.HTML object>"
            ],
            "text/html": [
              "474392 <a href = \"https://gall.dcinside.com//mgallery/board/view/?id=vr_games_xuq&no=474392&s_type=search_subject_memo&s_keyword=게임&page=1\" target=\"_blank\">노맨즈스카이에 대해 잘못 알고 있는 사람들이 많더라</a>  아이엔에프피 11:57 9 1"
            ]
          },
          "metadata": {}
        },
        {
          "output_type": "display_data",
          "data": {
            "text/plain": [
              "<IPython.core.display.HTML object>"
            ],
            "text/html": [
              "474391 <a href = \"https://gall.dcinside.com//mgallery/board/view/?id=vr_games_xuq&no=474391&s_type=search_subject_memo&s_keyword=게임&page=1\" target=\"_blank\">글고보니 파블로프 월샷 안되지?</a> [6] 기븐 11:54 9 0"
            ]
          },
          "metadata": {}
        },
        {
          "output_type": "display_data",
          "data": {
            "text/plain": [
              "<IPython.core.display.HTML object>"
            ],
            "text/html": [
              "474388 <a href = \"https://gall.dcinside.com//mgallery/board/view/?id=vr_games_xuq&no=474388&s_type=search_subject_memo&s_keyword=게임&page=1\" target=\"_blank\">새로나온/나올 FPS들 뭐뭐 있는거냐?</a> [4] 기븐 11:38 39 0"
            ]
          },
          "metadata": {}
        },
        {
          "output_type": "display_data",
          "data": {
            "text/plain": [
              "<IPython.core.display.HTML object>"
            ],
            "text/html": [
              "474371 <a href = \"https://gall.dcinside.com//mgallery/board/view/?id=vr_games_xuq&no=474371&s_type=search_subject_memo&s_keyword=게임&page=1\" target=\"_blank\">2077 말고 정식 사이버펑크 VR 게임 트레일러: Low-Fi</a> [3] ㅇㅇ(119.192) 08:58 215 1"
            ]
          },
          "metadata": {}
        },
        {
          "output_type": "display_data",
          "data": {
            "text/plain": [
              "<IPython.core.display.HTML object>"
            ],
            "text/html": [
              "474368 <a href = \"https://gall.dcinside.com//mgallery/board/view/?id=vr_games_xuq&no=474368&s_type=search_subject_memo&s_keyword=게임&page=1\" target=\"_blank\">vr사서 게임돌릴려고하는데 추천좀</a> [10] ㅇㅇ(61.42) 08:45 124 0"
            ]
          },
          "metadata": {}
        },
        {
          "output_type": "display_data",
          "data": {
            "text/plain": [
              "<IPython.core.display.HTML object>"
            ],
            "text/html": [
              "474366 <a href = \"https://gall.dcinside.com//mgallery/board/view/?id=vr_games_xuq&no=474366&s_type=search_subject_memo&s_keyword=게임&page=1\" target=\"_blank\">반경 단독 한글화래서 질문</a> [6] ㅇㅇ(58.229) 07:59 110 0"
            ]
          },
          "metadata": {}
        },
        {
          "output_type": "display_data",
          "data": {
            "text/plain": [
              "<IPython.core.display.HTML object>"
            ],
            "text/html": [
              "474363 <a href = \"https://gall.dcinside.com//mgallery/board/view/?id=vr_games_xuq&no=474363&s_type=search_subject_memo&s_keyword=게임&page=1\" target=\"_blank\">fus팩 프레임드랍 왤케심하지;</a> [15] 지온 07:41 133 0"
            ]
          },
          "metadata": {}
        },
        {
          "output_type": "display_data",
          "data": {
            "text/plain": [
              "<IPython.core.display.HTML object>"
            ],
            "text/html": [
              "474362 <a href = \"https://gall.dcinside.com//mgallery/board/view/?id=vr_games_xuq&no=474362&s_type=search_subject_memo&s_keyword=게임&page=1\" target=\"_blank\">[반경PC/단독] 2.6 정식 패치 FEEL AT HOME 한글번역</a> [8] 공동기각대 07:30 261 8"
            ]
          },
          "metadata": {}
        },
        {
          "output_type": "display_data",
          "data": {
            "text/plain": [
              "<IPython.core.display.HTML object>"
            ],
            "text/html": [
              "474355 <a href = \"https://gall.dcinside.com//mgallery/board/view/?id=vr_games_xuq&no=474355&s_type=search_subject_memo&s_keyword=게임&page=1\" target=\"_blank\">ㅇㅅㅂ 너클컨 한달 남짓 후기</a> [4] shabbang 00:37 165 0"
            ]
          },
          "metadata": {}
        },
        {
          "output_type": "display_data",
          "data": {
            "text/plain": [
              "<IPython.core.display.HTML object>"
            ],
            "text/html": [
              "474354 <a href = \"https://gall.dcinside.com//mgallery/board/view/?id=vr_games_xuq&no=474354&s_type=search_subject_memo&s_keyword=게임&page=1\" target=\"_blank\">오큘러스 스토어 게임 진행상황 공유됨?</a> [4] ㅇㅇ(125.178) 00:33 76 0"
            ]
          },
          "metadata": {}
        },
        {
          "output_type": "display_data",
          "data": {
            "text/plain": [
              "<IPython.core.display.HTML object>"
            ],
            "text/html": [
              "474346 <a href = \"https://gall.dcinside.com//mgallery/board/view/?id=vr_games_xuq&no=474346&s_type=search_subject_memo&s_keyword=게임&page=1\" target=\"_blank\">버데탑 잘되다가 레이턴시 너무 커지는데 질문좀...</a> [11] ㅇㅇ(211.117) 04.11 128 0"
            ]
          },
          "metadata": {}
        },
        {
          "output_type": "display_data",
          "data": {
            "text/plain": [
              "<IPython.core.display.HTML object>"
            ],
            "text/html": [
              "474303 <a href = \"https://gall.dcinside.com//mgallery/board/view/?id=vr_games_xuq&no=474303&s_type=search_subject_memo&s_keyword=게임&page=1\" target=\"_blank\">진지하게 VR 국밥 게임이 브챗,빗세 맞음?</a> [10] ㅇㅇ(14.37) 04.11 228 0"
            ]
          },
          "metadata": {}
        },
        {
          "output_type": "display_data",
          "data": {
            "text/plain": [
              "<IPython.core.display.HTML object>"
            ],
            "text/html": [
              "474294 <a href = \"https://gall.dcinside.com//mgallery/board/view/?id=vr_games_xuq&no=474294&s_type=search_subject_memo&s_keyword=게임&page=1\" target=\"_blank\">블소 U12 되고 모드 적용 방식 바뀜??</a> [1] ㅇㅇ(211.202) 04.11 65 0"
            ]
          },
          "metadata": {}
        },
        {
          "output_type": "display_data",
          "data": {
            "text/plain": [
              "<IPython.core.display.HTML object>"
            ],
            "text/html": [
              "474289 <a href = \"https://gall.dcinside.com//mgallery/board/view/?id=vr_games_xuq&no=474289&s_type=search_subject_memo&s_keyword=게임&page=1\" target=\"_blank\">왜 사람들이 비트세이버 추천하는지 알겠다</a> [3] ㅇㅇ(211.213) 04.11 204 0"
            ]
          },
          "metadata": {}
        },
        {
          "output_type": "display_data",
          "data": {
            "text/plain": [
              "<IPython.core.display.HTML object>"
            ],
            "text/html": [
              "474284 <a href = \"https://gall.dcinside.com//mgallery/board/view/?id=vr_games_xuq&no=474284&s_type=search_subject_memo&s_keyword=게임&page=1\" target=\"_blank\">4080으로 fus ro dah하면 프레임 70쯤 나옴</a> [3] ㅇㅇ 04.11 158 0"
            ]
          },
          "metadata": {}
        },
        {
          "output_type": "display_data",
          "data": {
            "text/plain": [
              "<IPython.core.display.HTML object>"
            ],
            "text/html": [
              "474271 <a href = \"https://gall.dcinside.com//mgallery/board/view/?id=vr_games_xuq&no=474271&s_type=search_subject_memo&s_keyword=게임&page=1\" target=\"_blank\">내꺼 왜이래 원래이럼??</a> [11] ㅇㅇ 04.11 193 0"
            ]
          },
          "metadata": {}
        },
        {
          "output_type": "display_data",
          "data": {
            "text/plain": [
              "<IPython.core.display.HTML object>"
            ],
            "text/html": [
              "474237 <a href = \"https://gall.dcinside.com//mgallery/board/view/?id=vr_games_xuq&no=474237&s_type=search_subject_memo&s_keyword=게임&page=1\" target=\"_blank\">크레딧으로 산 게임 환불하면 크레딧 다시 들어와?</a> [2] ㅇㅇ(123.199) 04.11 59 0"
            ]
          },
          "metadata": {}
        },
        {
          "output_type": "display_data",
          "data": {
            "text/plain": [
              "<IPython.core.display.HTML object>"
            ],
            "text/html": [
              "474156 <a href = \"https://gall.dcinside.com//mgallery/board/view/?id=vr_games_xuq&no=474156&s_type=search_subject_memo&s_keyword=게임&page=1\" target=\"_blank\">퀘2 팔았다</a> [9] 잘데 04.11 203 0"
            ]
          },
          "metadata": {}
        },
        {
          "output_type": "display_data",
          "data": {
            "text/plain": [
              "<IPython.core.display.HTML object>"
            ],
            "text/html": [
              "474151 <a href = \"https://gall.dcinside.com//mgallery/board/view/?id=vr_games_xuq&no=474151&s_type=search_subject_memo&s_keyword=게임&page=1\" target=\"_blank\">Fus팩 실내 밝기 못올림?</a> [15] 퀘프로 04.11 165 0"
            ]
          },
          "metadata": {}
        },
        {
          "output_type": "display_data",
          "data": {
            "text/plain": [
              "<IPython.core.display.HTML object>"
            ],
            "text/html": [
              "474149 <a href = \"https://gall.dcinside.com//mgallery/board/view/?id=vr_games_xuq&no=474149&s_type=search_subject_memo&s_keyword=게임&page=1\" target=\"_blank\">오큘2 2주 써본 후기</a> [2] ㅁㅁ(121.129) 04.11 161 1"
            ]
          },
          "metadata": {}
        }
      ]
    },
    {
      "cell_type": "code",
      "source": [],
      "metadata": {
        "id": "uWSHlrSzZ1Uc"
      },
      "execution_count": null,
      "outputs": []
    }
  ]
}