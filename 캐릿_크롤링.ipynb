{
  "nbformat": 4,
  "nbformat_minor": 0,
  "metadata": {
    "colab": {
      "provenance": [],
      "mount_file_id": "11kaf7PRrnA_pltBpSkhUs1XA7fv4AeeG",
      "authorship_tag": "ABX9TyNpESsqjlBFkw3K6BBWjviL",
      "include_colab_link": true
    },
    "kernelspec": {
      "name": "python3",
      "display_name": "Python 3"
    },
    "language_info": {
      "name": "python"
    }
  },
  "cells": [
    {
      "cell_type": "markdown",
      "metadata": {
        "id": "view-in-github",
        "colab_type": "text"
      },
      "source": [
        "<a href=\"https://colab.research.google.com/github/rkgus24/AI/blob/master/%EC%BA%90%EB%A6%BF_%ED%81%AC%EB%A1%A4%EB%A7%81.ipynb\" target=\"_parent\"><img src=\"https://colab.research.google.com/assets/colab-badge.svg\" alt=\"Open In Colab\"/></a>"
      ]
    },
    {
      "cell_type": "code",
      "execution_count": null,
      "metadata": {
        "colab": {
          "base_uri": "https://localhost:8080/"
        },
        "id": "B5J_j6W4-eI1",
        "outputId": "4c1add3d-63c7-4550-de34-b4c30b9c15d0"
      },
      "outputs": [
        {
          "name": "stdout",
          "output_type": "stream",
          "text": [
            "검색할 키워드를 입력하세요: 유행어\n"
          ]
        }
      ],
      "source": [
        "# step1.프로젝트에 필요한 패키지 불러오기\n",
        "from bs4 import BeautifulSoup as bs\n",
        "import requests, re\n",
        "\n",
        "# step2. 검색할 키워드 입력\n",
        "query = input('검색할 키워드를 입력하세요: ')\n",
        "\n",
        "# step3. 입력받은 query가 포함된 url 주소(네이버 뉴스 검색 결과 페이지) 저장\n",
        "url = 'https://www.careet.net/Search?srhgb=&searchText='+'%s'%query\n",
        "\n",
        "# step4. requests 패키지를 이용해 'url'의 html 문서 가져오기\n",
        "response = requests.get(url)\n",
        "html_text = response.text\n",
        "\n",
        "# step5. beautifulsoup 패키지로 파싱 후, 'soup' 변수에 저장\n",
        "soup = bs(response.text, 'html.parser')"
      ]
    },
    {
      "cell_type": "code",
      "source": [
        "#step6. 제목 텍스트 추출\n",
        "\n",
        "careet_titles = soup.select(\"p.list-tit\")\n",
        "\n",
        "for i in careet_titles:\n",
        "    title = i.get_text()\n",
        "    print(title)"
      ],
      "metadata": {
        "colab": {
          "base_uri": "https://localhost:8080/"
        },
        "id": "tXxEm1PR_MT8",
        "outputId": "e2602fcb-3908-4209-fea6-350065b3cbcd"
      },
      "execution_count": null,
      "outputs": [
        {
          "output_type": "stream",
          "name": "stdout",
          "text": [
            " 이중 몇 개나 아세요? 요즘 뜨는 밈 6개 속성 과외\n",
            " 기획에 영감을 주는 ‘레전드 썰’ 모음\n",
            " SNS 콘텐츠 제작할 때 참고하세요! Z세대는 다 아는 전단지 밈\n"
          ]
        }
      ]
    },
    {
      "cell_type": "code",
      "source": [
        "#step7.하이퍼링크 추출\n",
        "base_url = 'https://www.careet.net'\n",
        "for a_tag in soup.find_all('a', href=re.compile(r'^/\\d+$')):\n",
        "    href = a_tag['href']\n",
        "    full_url = base_url + href\n",
        "    print(full_url)"
      ],
      "metadata": {
        "colab": {
          "base_uri": "https://localhost:8080/"
        },
        "id": "tgUhkH9u_tvr",
        "outputId": "07f6e9ae-780e-4593-e313-f6e3a50fbacd"
      },
      "execution_count": null,
      "outputs": [
        {
          "output_type": "stream",
          "name": "stdout",
          "text": [
            "https://www.careet.net/1119\n",
            "https://www.careet.net/1129\n",
            "https://www.careet.net/1142\n",
            "https://www.careet.net/1118\n",
            "https://www.careet.net/1103\n"
          ]
        }
      ]
    },
    {
      "cell_type": "code",
      "source": [
        "# #step8.썸네일 이미지 추출\n",
        "# thumbnail = soup.select(\"img.thumb-img\")\n",
        "# thumbnail = []\n",
        "\n",
        "# for img in thumbnail:\n",
        "#     thumbnail.append(img.attrs['src'])\n",
        "\n",
        "# # 이미지 저장할 폴더 생성\n",
        "# import os\n",
        "\n",
        "# # path_folder의 경로는 각자 저장할 폴더의 경로를 적어줄 것\n",
        "# path_folder = '/content/drive/MyDrive/img_input'\n",
        "\n",
        "# if not os.path.isdir(path_folder):\n",
        "#     os.mkdir(path_folder)\n",
        "\n",
        "# # 이미지 다운로드\n",
        "# from urllib.request import urlretrieve\n",
        "# i = 0\n",
        "\n",
        "# for link in thumbnail:\n",
        "#     i += 1\n",
        "#     urlretrieve(link, path_folder + f'{i}.jpg')        #link에서 이미지 다운로드, './imgs/'에 파일명은 index와 확장자명으로"
      ],
      "metadata": {
        "id": "JiWaPZUt_0i1"
      },
      "execution_count": null,
      "outputs": []
    },
    {
      "cell_type": "code",
      "source": [
        "# 썸네일 이미지 추출\n",
        "thumbnail_urls = []\n",
        "for img_tag in soup.select(\"img.thumb-img\"):\n",
        "    thumbnail_urls.append(img_tag.attrs['src'])\n",
        "\n",
        "# 이미지 저장할 폴더 생성\n",
        "path_folder = '/content/drive/MyDrive/img_input'\n",
        "if not os.path.isdir(path_folder):\n",
        "    os.mkdir(path_folder)\n",
        "\n",
        "# 이미지 다운로드\n",
        "from urllib.request import urlretrieve\n",
        "i = 0\n",
        "for link in thumbnail_urls:\n",
        "    i += 1\n",
        "    urlretrieve(link, os.path.join(path_folder, f'{i}.jpg'))"
      ],
      "metadata": {
        "id": "oaz3SjaEmZxg"
      },
      "execution_count": null,
      "outputs": []
    },
    {
      "cell_type": "code",
      "source": [],
      "metadata": {
        "id": "4rFlaw-LvJY2"
      },
      "execution_count": null,
      "outputs": []
    }
  ]
}